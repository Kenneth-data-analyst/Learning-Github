{
 "cells": [
  {
   "cell_type": "markdown",
   "id": "eb4ca3a3-8ddc-4a8e-93ff-714b8faf9e5a",
   "metadata": {},
   "source": [
    "# Data Science Tools and Ecosystem"
   ]
  },
  {
   "cell_type": "markdown",
   "id": "a2fe2172-c812-47ce-9003-4c7a78622b4e",
   "metadata": {},
   "source": [
    "In this notebook, Data Science Tools and Ecosystem are summarized."
   ]
  },
  {
   "cell_type": "markdown",
   "id": "e634d784-2940-464c-9f31-88a81d36ec1d",
   "metadata": {},
   "source": [
    "**Objectives:**\n",
    "- Jupyter Notebooks are used in Data Science for recording experiments and projects.\n",
    "- The capabilities of R and its uses in Data Science.\n",
    "- Git is one of the most popular distributed version control systems. "
   ]
  },
  {
   "cell_type": "markdown",
   "id": "e8ad1d91-1bd6-4a63-9d57-24fb7e674b04",
   "metadata": {},
   "source": [
    "Some of the popular languages that Data Scientists use are:\n",
    "1. Python\n",
    "2. Java\n",
    "3. R"
   ]
  },
  {
   "cell_type": "markdown",
   "id": "2010f23b-c9c4-4ef1-89db-4e2e159cbbbc",
   "metadata": {},
   "source": [
    "Some of the commonly used libraries used by Data Scientists include:\n",
    "1. Scikit-learn\n",
    "2. Pandas\n",
    "3. Matplotlib"
   ]
  },
  {
   "cell_type": "markdown",
   "id": "f59a1ab2-05e1-47ac-8e09-c5b0039bef45",
   "metadata": {},
   "source": [
    "|Data Science Tools|\n",
    "|---|\n",
    "Python\n",
    "Java\n",
    "R"
   ]
  },
  {
   "cell_type": "markdown",
   "id": "5d391610-3b4d-4279-ad35-dbe41ad0c404",
   "metadata": {},
   "source": [
    "### Below are a few examples of evaluating arithmetic expressions in Python."
   ]
  },
  {
   "cell_type": "code",
   "execution_count": 10,
   "id": "02249ca2-838f-479a-8135-49bfee522a6e",
   "metadata": {},
   "outputs": [
    {
     "data": {
      "text/plain": [
       "17"
      ]
     },
     "execution_count": 10,
     "metadata": {},
     "output_type": "execute_result"
    }
   ],
   "source": [
    "# This is a simple arithmetic expression to multiply then add integers.\n",
    "(3*4)+5"
   ]
  },
  {
   "cell_type": "code",
   "execution_count": 11,
   "id": "b092a29b-0982-4e58-9bf3-36438bbed943",
   "metadata": {},
   "outputs": [
    {
     "data": {
      "text/plain": [
       "3.3333333333333335"
      ]
     },
     "execution_count": 11,
     "metadata": {},
     "output_type": "execute_result"
    }
   ],
   "source": [
    "# This will convert 200 minutes to hours by diving by 60\n",
    "200/60"
   ]
  },
  {
   "cell_type": "markdown",
   "id": "d59d307b-5538-4dde-a463-5b45e4020480",
   "metadata": {},
   "source": [
    "## Author\n",
    "刘礼贤"
   ]
  },
  {
   "cell_type": "code",
   "execution_count": null,
   "id": "762bdfdf-8098-41cf-8a7c-9b46a70b6bf6",
   "metadata": {},
   "outputs": [],
   "source": []
  }
 ],
 "metadata": {
  "kernelspec": {
   "display_name": "Python 3 (ipykernel)",
   "language": "python",
   "name": "python3"
  },
  "language_info": {
   "codemirror_mode": {
    "name": "ipython",
    "version": 3
   },
   "file_extension": ".py",
   "mimetype": "text/x-python",
   "name": "python",
   "nbconvert_exporter": "python",
   "pygments_lexer": "ipython3",
   "version": "3.11.7"
  }
 },
 "nbformat": 4,
 "nbformat_minor": 5
}
